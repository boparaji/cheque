{
 "cells": [
  {
   "cell_type": "code",
   "execution_count": 1,
   "metadata": {},
   "outputs": [],
   "source": [
    "import matplotlib.pyplot as plot"
   ]
  },
  {
   "cell_type": "code",
   "execution_count": 2,
   "metadata": {},
   "outputs": [],
   "source": [
    "import cv2"
   ]
  },
  {
   "cell_type": "code",
   "execution_count": 3,
   "metadata": {},
   "outputs": [],
   "source": [
    "import pandas\n",
    "import math"
   ]
  },
  {
   "cell_type": "code",
   "execution_count": 4,
   "metadata": {},
   "outputs": [],
   "source": [
    "import scipy"
   ]
  },
  {
   "cell_type": "code",
   "execution_count": 5,
   "metadata": {},
   "outputs": [],
   "source": [
    "from copy import deepcopy"
   ]
  },
  {
   "cell_type": "code",
   "execution_count": 6,
   "metadata": {},
   "outputs": [],
   "source": [
    "segmented_word_path = \"C:\\Users\\Bolanle Esther\\PycharmProjects\\cheque\\word_segmentation_results\\data_6.png\""
   ]
  },
  {
   "cell_type": "markdown",
   "metadata": {},
   "source": [
    "read the image"
   ]
  },
  {
   "cell_type": "code",
   "execution_count": 7,
   "metadata": {},
   "outputs": [],
   "source": [
    "image_of_word = cv2.imread(segmented_word_path)"
   ]
  },
  {
   "cell_type": "markdown",
   "metadata": {},
   "source": [
    "then display the image"
   ]
  },
  {
   "cell_type": "code",
   "execution_count": 8,
   "metadata": {},
   "outputs": [
    {
     "data": {
      "image/png": "[encoded data removed]",
      "text/plain": [
       "<Figure size 432x288 with 1 Axes>"
      ]
     },
     "metadata": {
      "needs_background": "light"
     },
     "output_type": "display_data"
    }
   ],
   "source": [
    "plot.imshow(image_of_word)\n",
    "plot.show()"
   ]
  },
  {
   "cell_type": "code",
   "execution_count": 9,
   "metadata": {},
   "outputs": [
    {
     "data": {
      "text/plain": [
       "(76L, 137L, 3L)"
      ]
     },
     "execution_count": 9,
     "metadata": {},
     "output_type": "execute_result"
    }
   ],
   "source": [
    "image_of_word.shape"
   ]
  },
  {
   "cell_type": "code",
   "execution_count": 10,
   "metadata": {},
   "outputs": [],
   "source": [
    "benchmark_black = [65, 65, 65]"
   ]
  },
  {
   "cell_type": "code",
   "execution_count": 11,
   "metadata": {},
   "outputs": [],
   "source": [
    "def calculate_stroke_width(image): \n",
    "    #each row of pixels \n",
    "    all_stroke_widths = []\n",
    "    all_stroke_locations = []\n",
    "    for row_index, row in enumerate(image):\n",
    "        running_stroke = False\n",
    "        current_width = 0\n",
    "        pixel_indices = []\n",
    "        for column_index, column in enumerate(row): \n",
    "            if (column[0] <= benchmark_black[0] and column[1] <= benchmark_black[1] and column[2] <= benchmark_black[2]):\n",
    "                running_stroke = True\n",
    "                current_width = current_width + 1\n",
    "                pixel_indices.append((row_index, column_index))\n",
    "            else: \n",
    "                if(current_width > 0):\n",
    "                    all_stroke_widths.append(current_width)\n",
    "                    all_stroke_locations.append(deepcopy(pixel_indices))\n",
    "                    current_width = 0\n",
    "                    pixel_indices = []\n",
    "                running_stroke = False\n",
    "        if(current_width > 0):\n",
    "            all_stroke_widths.append(current_width)\n",
    "            all_stroke_locations.append(deepcopy(pixel_indices))\n",
    "            current_width = 0\n",
    "    return all_stroke_widths, all_stroke_locations\n",
    "                    \n",
    "all_stroke_widths, all_stroke_width_locations = calculate_stroke_width(image_of_word)"
   ]
  },
  {
   "cell_type": "code",
   "execution_count": 12,
   "metadata": {},
   "outputs": [],
   "source": [
    " all_stroke_widths = pandas.DataFrame(all_stroke_widths)"
   ]
  },
  {
   "cell_type": "code",
   "execution_count": 13,
   "metadata": {},
   "outputs": [],
   "source": [
    "mean_stroke = all_stroke_widths.mean()[0]"
   ]
  },
  {
   "cell_type": "code",
   "execution_count": null,
   "metadata": {},
   "outputs": [],
   "source": []
  },
  {
   "cell_type": "code",
   "execution_count": 14,
   "metadata": {},
   "outputs": [],
   "source": [
    "#now calculate the length-wise stroke\n",
    "def calculate_stroke_height(image): \n",
    "    all_stroke_height = []\n",
    "    all_stroke_locations = []\n",
    "    for column_index in range(0, (image.shape[1])): #loop through each column\n",
    "        running_stroke = False\n",
    "        current_height = 0\n",
    "        pixel_indices = []\n",
    "        column = image[:,column_index]\n",
    "        for row_index in enumerate(column): \n",
    "            if (column[0] <= benchmark_black[0] and column[1] <= benchmark_black[1] and column[2] <= benchmark_black[2]):\n",
    "                running_stroke = True\n",
    "                current_height = current_height + 1\n",
    "                pixel_indices.append((row_index, column_index))\n",
    "            else: \n",
    "                if(current_height > 0):\n",
    "                    all_stroke_height.append(current_height)\n",
    "                    all_stroke_locations.append(deepcopy(pixel_indices))\n",
    "                    current_height = 0\n",
    "                    pixel_indices = []\n",
    "                running_stroke = False\n",
    "        if(current_height > 0):\n",
    "            all_stroke_height.append(current_width)\n",
    "            all_stroke_locations.append(deepcopy(pixel_indices))\n",
    "            current_height = 0\n",
    "    return all_stroke_height, all_stroke_locations\n",
    "                    \n",
    "all_stroke_height, all_stroke_height_locations = calculate_stroke_width(image_of_word)"
   ]
  },
  {
   "cell_type": "code",
   "execution_count": null,
   "metadata": {},
   "outputs": [],
   "source": []
  },
  {
   "cell_type": "code",
   "execution_count": 15,
   "metadata": {},
   "outputs": [],
   "source": [
    "#get row with the max number of strokes as the row that represent roughly the one that has all the characters\n",
    "def calculate_row_with_max_separate_stokes(image): \n",
    "    #each row of pixels \n",
    "    max_strokes= -1\n",
    "    max_strokes_index = -1\n",
    "    for row_index, row in enumerate(image):\n",
    "        running_stroke = False\n",
    "        number_of_indv_strokes = 0\n",
    "        for column_index, column in enumerate(row): \n",
    "            if (column[0] <= benchmark_black[0] and column[1] <= benchmark_black[1] and column[2] <= benchmark_black[2]):\n",
    "                running_stroke = True\n",
    "            else: \n",
    "                if running_stroke:\n",
    "                    number_of_indv_strokes = number_of_indv_strokes + 1\n",
    "                running_stroke = False\n",
    "        if(number_of_indv_strokes > max_strokes):\n",
    "            max_strokes = number_of_indv_strokes\n",
    "            max_stroke_index = row_index\n",
    "    return max_stroke_index\n",
    "max_stroke_index = calculate_row_with_max_separate_stokes(image_of_word)"
   ]
  },
  {
   "cell_type": "code",
   "execution_count": null,
   "metadata": {},
   "outputs": [],
   "source": []
  },
  {
   "cell_type": "code",
   "execution_count": 16,
   "metadata": {},
   "outputs": [
    {
     "data": {
      "image/png": "[encoded data removed]",
      "text/plain": [
       "<Figure size 432x288 with 1 Axes>"
      ]
     },
     "metadata": {
      "needs_background": "light"
     },
     "output_type": "display_data"
    }
   ],
   "source": [
    "#visualise the row with the most strokes\n",
    "image_for_visuals = deepcopy(image_of_word)\n",
    "image_for_visuals[max_stroke_index] = [[250, 100, 154] for pixel in image_for_visuals[max_stroke_index]]\n",
    "plot.imshow(image_for_visuals)\n",
    "plot.show()"
   ]
  },
  {
   "cell_type": "code",
   "execution_count": 17,
   "metadata": {},
   "outputs": [],
   "source": [
    "#we only want those strokes less than within 1 pixel of the mean as candidates to search from \n",
    "def prune_for_candidate_search(image) :\n",
    "    row_with_most_strokes = image[max_stroke_index]\n",
    "    row_with_most_strokes_widths_and_locations = [] \n",
    "    pruned_strokes = []\n",
    "    pixel_indices = []\n",
    "    current_stroke_width = 0\n",
    "    for column_index, column in enumerate(row_with_most_strokes): \n",
    "            if (column[0] <= benchmark_black[0] and column[1] <= benchmark_black[1] and column[2] <= benchmark_black[2]):\n",
    "                running_stroke = True\n",
    "                current_stroke_width = current_stroke_width + 1\n",
    "                pixel_indices.append((max_stroke_index, column_index))\n",
    "            else: \n",
    "                if(current_stroke_width > 0):\n",
    "                    row_with_most_strokes_widths_and_locations.append((current_stroke_width, deepcopy(pixel_indices)))\n",
    "                    current_stroke_width = 0\n",
    "                    pixel_indices = []\n",
    "                running_stroke = False\n",
    "    if(current_stroke_width > 0):\n",
    "        row_with_most_strokes_widths_and_locations.append((current_stroke_width, deepcopy(pixel_indices)))\n",
    "        current_width = 0\n",
    "    for candidate_stroke in row_with_most_strokes_widths_and_locations:\n",
    "        #if candidate_stroke[0] >= mean_stroke - 1 and candidate_stroke[0] <= mean_stroke + 1:\n",
    "        pruned_strokes.extend(candidate_stroke[1])\n",
    "    \n",
    "    return pruned_strokes\n",
    "strokes_pruned = prune_for_candidate_search(image_of_word)"
   ]
  },
  {
   "cell_type": "code",
   "execution_count": 36,
   "metadata": {},
   "outputs": [],
   "source": [
    "#now we need to get the lowest pixels for each of the strokes - we use a depth first search downwards \n",
    "def find_lowest_pixels(unvisited_pixels, image) : \n",
    "    visited_pixels = [] \n",
    "    unvisited_pixels.reverse()\n",
    "    lowest_pixels = []\n",
    "    while len(unvisited_pixels) > 0: \n",
    "        current_pixel = unvisited_pixels.pop()\n",
    "        visited_pixels.append(current_pixel)\n",
    "        \n",
    "        bottom_left = (current_pixel[0] + 1, current_pixel[1] - 1)\n",
    "        bottom_middle = (current_pixel[0] + 1, current_pixel[1])\n",
    "        bottom_right = (current_pixel[0] + 1, current_pixel[1] + 1)\n",
    "        added_children = False\n",
    "        if (bottom_left not in visited_pixels and bottom_left[0] < image.shape[0] and bottom_left[1] < image.shape[1] and \n",
    "            image[bottom_left][0] <= benchmark_black[0] and image[bottom_left][1] <= benchmark_black[1] and\n",
    "            image[bottom_left][2] <= benchmark_black[2]):\n",
    "                unvisited_pixels.append(bottom_left)\n",
    "                added_children = True\n",
    "                \n",
    "        if (bottom_middle not in visited_pixels and bottom_middle[0] < image.shape[0] and bottom_middle[1] < image.shape[1] and \n",
    "            image[bottom_middle][0] <= benchmark_black[0] and image[bottom_middle][1] <= benchmark_black[1] and\n",
    "            image[bottom_middle][2] <= benchmark_black[2]):\n",
    "                unvisited_pixels.append(bottom_middle)\n",
    "                added_children = True\n",
    "                \n",
    "        if (bottom_right not in visited_pixels and bottom_right[0] < image.shape[0] and bottom_right[1] < image.shape[1] and \n",
    "            image[bottom_right][0] <= benchmark_black[0] and image[bottom_right][1] <= benchmark_black[1] and\n",
    "            image[bottom_right][2] <= benchmark_black[2]):\n",
    "                unvisited_pixels.append(bottom_right)\n",
    "                added_children = True\n",
    "        \n",
    "        if not added_children:\n",
    "            lowest_pixels.append(current_pixel)\n",
    "        \n",
    "    return lowest_pixels\n",
    "\n",
    "lowest_points = find_lowest_pixels(deepcopy(strokes_pruned), image_of_word)"
   ]
  },
  {
   "cell_type": "code",
   "execution_count": 37,
   "metadata": {},
   "outputs": [],
   "source": [
    "#now we need to get the highest pixels for each of the strokes - we use a depth first search highest \n",
    "def find_highest_pixels(unvisited_pixels, image) : \n",
    "    visited_pixels = [] \n",
    "    unvisited_pixels.reverse()\n",
    "    highest_pixels = []\n",
    "    while len(unvisited_pixels) > 0: \n",
    "        current_pixel = unvisited_pixels.pop()\n",
    "        visited_pixels.append(current_pixel)\n",
    "        \n",
    "        top_left = (current_pixel[0] - 1, current_pixel[1] - 1)\n",
    "        top_middle = (current_pixel[0] - 1, current_pixel[1])\n",
    "        top_right = (current_pixel[0] - 1, current_pixel[1] + 1)\n",
    "        added_children = False\n",
    "        if (top_left not in visited_pixels and top_left[0] < image.shape[0] and top_left[1] < image.shape[1] and \n",
    "            image[top_left][0] <= benchmark_black[0] and image[top_left][1] <= benchmark_black[1] and\n",
    "            image[top_left][2] <= benchmark_black[2]):\n",
    "                unvisited_pixels.append(top_left)\n",
    "                added_children = True\n",
    "                \n",
    "        if (top_middle not in visited_pixels and top_middle[0] < image.shape[0] and top_middle[1] < image.shape[1] and \n",
    "            image[top_middle][0] <= benchmark_black[0] and image[top_middle][1] <= benchmark_black[1] and\n",
    "            image[top_middle][2] <= benchmark_black[2]):\n",
    "                unvisited_pixels.append(top_middle)\n",
    "                added_children = True\n",
    "                \n",
    "        if (top_right not in visited_pixels and top_right[0] < image.shape[0] and top_right[1] < image.shape[1] and \n",
    "            image[top_right][0] <= benchmark_black[0] and image[top_right][1] <= benchmark_black[1] and\n",
    "            image[top_right][2] <= benchmark_black[2]):\n",
    "                unvisited_pixels.append(top_right)\n",
    "                added_children = True\n",
    "        \n",
    "        if not added_children:\n",
    "            highest_pixels.append(current_pixel)\n",
    "        \n",
    "    return highest_pixels\n",
    "\n",
    "highest_points = find_highest_pixels(deepcopy(strokes_pruned), image_of_word)"
   ]
  },
  {
   "cell_type": "code",
   "execution_count": 21,
   "metadata": {},
   "outputs": [],
   "source": []
  },
  {
   "cell_type": "code",
   "execution_count": 38,
   "metadata": {},
   "outputs": [
    {
     "data": {
      "image/png": "[encoded data removed]",
      "text/plain": [
       "<Figure size 432x288 with 1 Axes>"
      ]
     },
     "metadata": {
      "needs_background": "light"
     },
     "output_type": "display_data"
    }
   ],
   "source": [
    "#draw this so we can visualise\n",
    "def visualise_points( all_points, image):\n",
    "    for point in all_points: \n",
    "        image[point] = [235, 38, 70]\n",
    "    plot.imshow(image)\n",
    "    plot.show()\n",
    "\n",
    "    \n",
    "all_points = []\n",
    "all_points.extend(lowest_points)\n",
    "all_points.extend(highest_points)\n",
    "visualise_points(all_points, image_for_visuals)"
   ]
  },
  {
   "cell_type": "code",
   "execution_count": null,
   "metadata": {},
   "outputs": [],
   "source": []
  },
  {
   "cell_type": "code",
   "execution_count": 24,
   "metadata": {},
   "outputs": [
    {
     "ename": "IndentationError",
     "evalue": "expected an indented block (<ipython-input-24-d707d2f00c5c>, line 4)",
     "traceback": [
      "\u001b[0;36m  File \u001b[0;32m\"<ipython-input-24-d707d2f00c5c>\"\u001b[0;36m, line \u001b[0;32m4\u001b[0m\n\u001b[0;31m    \u001b[0m\n\u001b[0m    ^\u001b[0m\n\u001b[0;31mIndentationError\u001b[0m\u001b[0;31m:\u001b[0m expected an indented block\n"
     ],
     "output_type": "error"
    }
   ],
   "source": [
    "def follow_east_and_segment(highest_points, lowest_points, image):\n",
    "    \n",
    "    "
   ]
  }
 ],
 "metadata": {
  "kernelspec": {
   "display_name": "Python 2",
   "language": "python",
   "name": "python2"
  },
  "language_info": {
   "codemirror_mode": {
    "name": "ipython",
    "version": 2
   },
   "file_extension": ".py",
   "mimetype": "text/x-python",
   "name": "python",
   "nbconvert_exporter": "python",
   "pygments_lexer": "ipython2",
   "version": "2.7.15"
  }
 },
 "nbformat": 4,
 "nbformat_minor": 1
}
